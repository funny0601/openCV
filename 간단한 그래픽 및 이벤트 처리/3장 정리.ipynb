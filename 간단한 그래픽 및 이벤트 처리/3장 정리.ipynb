{
 "cells": [
  {
   "cell_type": "markdown",
   "metadata": {},
   "source": [
    "# OpenCV 3장 간단한 그래픽 및 이벤트 처리"
   ]
  },
  {
   "cell_type": "code",
   "execution_count": 2,
   "metadata": {},
   "outputs": [],
   "source": [
    "import cv2\n",
    "import numpy as np"
   ]
  },
  {
   "cell_type": "markdown",
   "metadata": {},
   "source": [
    "(0, 0, 0) : 검은색 배경 <BR>\n",
    "(255, 255, 255) : 흰색 배경"
   ]
  },
  {
   "cell_type": "code",
   "execution_count": 3,
   "metadata": {},
   "outputs": [],
   "source": [
    "img = np.zeros(shape=(512, 512, 3), dtype=np.uint8) + 255"
   ]
  },
  {
   "cell_type": "code",
   "execution_count": 4,
   "metadata": {},
   "outputs": [],
   "source": [
    "pt1 = 100, 100\n",
    "pt2 = 400, 400"
   ]
  },
  {
   "cell_type": "markdown",
   "metadata": {},
   "source": [
    "직선 및 사각형 그리기"
   ]
  },
  {
   "cell_type": "code",
   "execution_count": 14,
   "metadata": {},
   "outputs": [],
   "source": [
    "cv2.rectangle(img, pt1, pt2, (0, 255, 0), 2) #녹색, 두께 2\n",
    "cv2.line(img, (0, 0), (500, 0), (255, 0, 0), 5) #빨간색, 두께 5\n",
    "cv2.line(img, (0, 0), (0, 500), (0, 0, 255), 5) #파란색, 두께 5\n",
    "\n",
    "cv2.imshow('img', img)\n",
    "cv2.waitKey()\n",
    "cv2.destroyAllWindows()"
   ]
  },
  {
   "cell_type": "code",
   "execution_count": 15,
   "metadata": {},
   "outputs": [],
   "source": [
    "x1, x2 = 100, 400\n",
    "y1, y2 = 100, 400\n",
    "\n",
    "pt1 = 120, 50\n",
    "pt2 = 300, 500"
   ]
  },
  {
   "cell_type": "markdown",
   "metadata": {},
   "source": [
    "Rect(0, 0, imgSize.width, imgSize.height)<br>"
   ]
  },
  {
   "cell_type": "code",
   "execution_count": 19,
   "metadata": {},
   "outputs": [],
   "source": [
    "cv2.rectangle(img, (x1, y1), (x2, y2), (0, 0, 255))\n",
    "cv2.line(img, pt1, pt2, (255, 0, 0), 2)\n",
    "\n",
    "imgRect = (x1, y1, x2-x1, y2-y1)\n",
    "retval, rpt1, rpt2 = cv2.clipLine(imgRect, pt1, pt2)\n",
    "if retval:\n",
    "    cv2.circle(img, rpt1, radius=5, color=(0, 255, 0), thickness=-1)\n",
    "    cv2.circle(img, rpt2, radius=5, color=(0, 255, 0), thickness=-1)\n",
    "\n",
    "cv2.imshow('img', img)\n",
    "cv2.waitKey()\n",
    "cv2.destroyAllWindows()"
   ]
  },
  {
   "cell_type": "code",
   "execution_count": 20,
   "metadata": {},
   "outputs": [],
   "source": [
    "cv2.imshow('img', img)\n",
    "cv2.waitKey()\n",
    "cv2.destroyAllWindows()"
   ]
  },
  {
   "cell_type": "markdown",
   "metadata": {},
   "source": [
    "원 그리기 <br>\n",
    "cv2.circle(img, center, radius, color, thickness)<br>\n",
    "thickness = -1 : color 색상으로 채운 원을 그린다"
   ]
  },
  {
   "cell_type": "code",
   "execution_count": 60,
   "metadata": {},
   "outputs": [],
   "source": [
    "img = np.zeros(shape=(512, 512, 3), dtype=np.uint8)+255 # 흰 배경 생성\n",
    "cx = img.shape[0]//2 # 중심점\n",
    "cy = img.shape[1]//2 # 중심점"
   ]
  },
  {
   "cell_type": "code",
   "execution_count": 40,
   "metadata": {},
   "outputs": [],
   "source": [
    "for r in range(200, 0, -100):\n",
    "    cv2.circle(img, (cx, cy), r, color = (255, 0, 0))\n",
    "\n",
    "cv2.circle(img, (cx, cy), radius = 50,  color = (0, 0, 255), thickness=-1)\n",
    "\n",
    "cv2.imshow('img', img)\n",
    "cv2.waitKey()\n",
    "cv2.destroyAllWindows()"
   ]
  },
  {
   "cell_type": "markdown",
   "metadata": {},
   "source": [
    "타원 그리기 <br>"
   ]
  },
  {
   "cell_type": "code",
   "execution_count": 61,
   "metadata": {},
   "outputs": [],
   "source": [
    "size = 200, 100\n",
    "ptCenter = img.shape[0]//2, img.shape[1]//2 # 다른 표현법"
   ]
  },
  {
   "cell_type": "code",
   "execution_count": 57,
   "metadata": {},
   "outputs": [
    {
     "data": {
      "text/plain": [
       "array([[[255, 255, 255],\n",
       "        [255, 255, 255],\n",
       "        [255, 255, 255],\n",
       "        ...,\n",
       "        [255, 255, 255],\n",
       "        [255, 255, 255],\n",
       "        [255, 255, 255]],\n",
       "\n",
       "       [[255, 255, 255],\n",
       "        [255, 255, 255],\n",
       "        [255, 255, 255],\n",
       "        ...,\n",
       "        [255, 255, 255],\n",
       "        [255, 255, 255],\n",
       "        [255, 255, 255]],\n",
       "\n",
       "       [[255, 255, 255],\n",
       "        [255, 255, 255],\n",
       "        [255, 255, 255],\n",
       "        ...,\n",
       "        [255, 255, 255],\n",
       "        [255, 255, 255],\n",
       "        [255, 255, 255]],\n",
       "\n",
       "       ...,\n",
       "\n",
       "       [[255, 255, 255],\n",
       "        [255, 255, 255],\n",
       "        [255, 255, 255],\n",
       "        ...,\n",
       "        [255, 255, 255],\n",
       "        [255, 255, 255],\n",
       "        [255, 255, 255]],\n",
       "\n",
       "       [[255, 255, 255],\n",
       "        [255, 255, 255],\n",
       "        [255, 255, 255],\n",
       "        ...,\n",
       "        [255, 255, 255],\n",
       "        [255, 255, 255],\n",
       "        [255, 255, 255]],\n",
       "\n",
       "       [[255, 255, 255],\n",
       "        [255, 255, 255],\n",
       "        [255, 255, 255],\n",
       "        ...,\n",
       "        [255, 255, 255],\n",
       "        [255, 255, 255],\n",
       "        [255, 255, 255]]], dtype=uint8)"
      ]
     },
     "execution_count": 57,
     "metadata": {},
     "output_type": "execute_result"
    }
   ],
   "source": [
    "#cv2.ellipse(img, ptCenter, size, 0, 0, 180, (255, 0, 0)) # 각도:0, 시작 각도:0, 끝 각도: 360\n",
    "cv2.ellipse(img, ptCenter, size, 45, 0, 360, (0, 0, 255)) # 각도:0, 시작 각도:0, 끝 각도: 360\n",
    "cv2.ellipse(img, ptCenter, size, 0, 0, 180, (0, 255, 0))"
   ]
  },
  {
   "cell_type": "code",
   "execution_count": 62,
   "metadata": {},
   "outputs": [
    {
     "data": {
      "text/plain": [
       "array([[[255, 255, 255],\n",
       "        [255, 255, 255],\n",
       "        [255, 255, 255],\n",
       "        ...,\n",
       "        [255, 255, 255],\n",
       "        [255, 255, 255],\n",
       "        [255, 255, 255]],\n",
       "\n",
       "       [[255, 255, 255],\n",
       "        [255, 255, 255],\n",
       "        [255, 255, 255],\n",
       "        ...,\n",
       "        [255, 255, 255],\n",
       "        [255, 255, 255],\n",
       "        [255, 255, 255]],\n",
       "\n",
       "       [[255, 255, 255],\n",
       "        [255, 255, 255],\n",
       "        [255, 255, 255],\n",
       "        ...,\n",
       "        [255, 255, 255],\n",
       "        [255, 255, 255],\n",
       "        [255, 255, 255]],\n",
       "\n",
       "       ...,\n",
       "\n",
       "       [[255, 255, 255],\n",
       "        [255, 255, 255],\n",
       "        [255, 255, 255],\n",
       "        ...,\n",
       "        [255, 255, 255],\n",
       "        [255, 255, 255],\n",
       "        [255, 255, 255]],\n",
       "\n",
       "       [[255, 255, 255],\n",
       "        [255, 255, 255],\n",
       "        [255, 255, 255],\n",
       "        ...,\n",
       "        [255, 255, 255],\n",
       "        [255, 255, 255],\n",
       "        [255, 255, 255]],\n",
       "\n",
       "       [[255, 255, 255],\n",
       "        [255, 255, 255],\n",
       "        [255, 255, 255],\n",
       "        ...,\n",
       "        [255, 255, 255],\n",
       "        [255, 255, 255],\n",
       "        [255, 255, 255]]], dtype=uint8)"
      ]
     },
     "execution_count": 62,
     "metadata": {},
     "output_type": "execute_result"
    }
   ],
   "source": [
    "box = (ptCenter, size, 0) # 표현법을 또 다르게 설정 \n",
    "cv2.ellipse(img, box, (255, 0, 0), 5) # 두께 5"
   ]
  },
  {
   "cell_type": "code",
   "execution_count": 63,
   "metadata": {},
   "outputs": [],
   "source": [
    "cv2.imshow('img', img)\n",
    "cv2.waitKey()\n",
    "cv2.destroyAllWindows()"
   ]
  },
  {
   "cell_type": "markdown",
   "metadata": {},
   "source": [
    "다각형 그리기 + 채우기"
   ]
  },
  {
   "cell_type": "code",
   "execution_count": null,
   "metadata": {},
   "outputs": [],
   "source": []
  },
  {
   "cell_type": "code",
   "execution_count": null,
   "metadata": {},
   "outputs": [],
   "source": []
  },
  {
   "cell_type": "code",
   "execution_count": null,
   "metadata": {},
   "outputs": [],
   "source": []
  },
  {
   "cell_type": "markdown",
   "metadata": {},
   "source": [
    "shape = (512, 800, 3)<br>\n",
    "800=가로, 512=세로 <br>\n",
    "문자열 출력"
   ]
  },
  {
   "cell_type": "code",
   "execution_count": 27,
   "metadata": {},
   "outputs": [],
   "source": [
    "img = np.zeros(shape=(512, 800, 3), dtype=np.uint8) +255\n",
    "text = 'Too much hw with no time left'\n",
    "org = (50, 100) # 문자열 출력 위치\n",
    "font = cv2.FONT_HERSHEY_SIMPLEX\n",
    "cv2.putText(img, text, org, font, 1, (255, 0, 0), 2) # 폰트 사이즈: 1, 폰트 두께: 2\n",
    "\n",
    "size, baseLine = cv2.getTextSize(text, font, 1, 2) # 폰트 사이즈: 1, 폰트 두께: 2\n",
    "# baseLine : 사각형 아래 기준선의 상대적 y 값\n",
    "\n",
    "cv2.rectangle(img, org, (org[0]+size[0], org[1]-size[1]), (0, 0, 255))\n",
    "cv2.circle(img, org, 3, (0, 255, 0), 2) # 텍스트 박스의 왼쪽 아래\n",
    "cv2.circle(img, (org[0]+size[0], org[1]-size[1]), 3, (255, 0, 0), 2) # 텍스트 박스의 오른쪽 위\n",
    "\n",
    "cv2.imshow('img', img)\n",
    "cv2.waitKey()\n",
    "cv2.destroyAllWindows()"
   ]
  },
  {
   "cell_type": "markdown",
   "metadata": {},
   "source": [
    "키보드 이벤트 처리"
   ]
  },
  {
   "cell_type": "code",
   "execution_count": 30,
   "metadata": {},
   "outputs": [],
   "source": [
    "width, height = 512, 512\n",
    "x, y, R = 256, 256, 50\n",
    "direction = 0\n",
    "\n",
    "while True:\n",
    "    key = cv2.waitKeyEx(30)\n",
    "    if key == 0x1B: # esc 입력 시 종료\n",
    "        break\n",
    "    \n",
    "    #방향키 방향 전환\n",
    "    \n",
    "    elif key == 0x270000: # right\n",
    "        direction = 0\n",
    "    elif key == 0x280000: # down\n",
    "        direction = 1\n",
    "    elif key == 0x250000: # left\n",
    "        direction = 2\n",
    "    elif key == 0x260000: # up\n",
    "        direction = 3\n",
    "\n",
    "    # 방향으로 이동\n",
    "    if direction == 0:\n",
    "        x +=10\n",
    "    elif direction == 1:\n",
    "        y += 10\n",
    "    elif direction ==2:\n",
    "        x -= 10\n",
    "    else: \n",
    "        y -= 10\n",
    "        \n",
    "    # 경계 확인\n",
    "    if x < R : # 왼쪽 경계에 닿았으니 오른쪽으로 방향 틀기 \n",
    "        x = R\n",
    "        direction = 0\n",
    "    if x > width - R:\n",
    "        x = width - R\n",
    "        direction =2 # 오른쪽 경계 끝에 닿았으니 왼쪽으로 방향 틀기\n",
    "    if y< R: # 더 이상 위로 올라가지 못하는 경우\n",
    "        y = R\n",
    "        direction = 1 # 아래로 방향 틀기 \n",
    "    if y > height - R:\n",
    "        y = height -R\n",
    "        direction = 3 # 더 이상 아래로 내려가지 못하는 경우, 위로 방향 틀기\n",
    "        \n",
    "    img = np.zeros((width, height, 3), np.uint8)+255\n",
    "    cv2.circle(img, (x, y), R, (0, 0, 255), -1)\n",
    "    cv2.imshow('img', img)\n",
    "\n",
    "cv2.destroyAllWindows()"
   ]
  },
  {
   "cell_type": "markdown",
   "metadata": {},
   "source": [
    "마우스 이벤트 처리 <br>\n",
    "onMouse() 내부 함수 구현 및 함수 이름은 자유롭게 하되, 매개변수는 모두 챙긴다"
   ]
  },
  {
   "cell_type": "code",
   "execution_count": 71,
   "metadata": {},
   "outputs": [],
   "source": [
    "def onM(event, x, y, flags, param): # 매개변수 5개 다 써줘야 되는 듯 하다..\n",
    "    if event == cv2.EVENT_LBUTTONDOWN: # 마우스 왼쪽 버튼 클릭\n",
    "        if flags & cv2.EVENT_FLAG_SHIFTKEY: # shift 키와 함께\n",
    "            cv2.rectangle(param[0], (x-5, y-5), (x+5, y+5), (255, 0, 0))\n",
    "        else:\n",
    "            cv2.circle(param[0], (x, y), 5, (255, 0, 0), 3)\n",
    "    elif event == cv2.EVENT_RBUTTONDOWN: # 마우스 오른쪽 버튼 클릭\n",
    "        cv2.circle(param[0], (x, y), 5, (0, 0, 255), 3)\n",
    "    elif event == cv2.EVENT_LBUTTONDBLCLK: # 마우스 왼쪽 버튼 더블 클릭\n",
    "        param[0] = np.zeros(param[0].shape, np.uint8)+255\n",
    "    cv2.imshow('img', param[0])\n",
    "\n",
    "img = np.zeros((512, 512, 3), np.uint8)+255\n",
    "cv2.imshow('img', img)\n",
    "cv2.setMouseCallback('img', onMouse, [img])\n",
    "cv2.waitKey()\n",
    "cv2.destroyAllWindows()"
   ]
  },
  {
   "cell_type": "markdown",
   "metadata": {},
   "source": [
    "트랙바 이벤트 처리"
   ]
  },
  {
   "cell_type": "code",
   "execution_count": 16,
   "metadata": {},
   "outputs": [],
   "source": [
    "def onChange(pos): # 트랙바 핸들러\n",
    "    \n",
    "    global img # 전역변수 선언\n",
    "    \n",
    "    r = cv2.getTrackbarPos('R', 'img')\n",
    "    g = cv2.getTrackbarPos('G', 'img')\n",
    "    b = cv2.getTrackbarPos('B', 'img')\n",
    "    \n",
    "    img[:]=(b,g, r) # opencv는 bgr 순서\n",
    "                    # img의 모든 화소를 (b, g, r) 색상으로 초기화\n",
    "    cv2.imshow('img', img)\n",
    "\n",
    "img = np.zeros((512, 512, 3), np.uint8)\n",
    "# img -> 3차원 배열\n",
    "cv2.imshow('img', img)\n",
    "\n",
    "# 트랙바 생성\n",
    "cv2.createTrackbar('R', 'img', 0, 255, onChange)\n",
    "cv2.createTrackbar('G', 'img', 0, 255, onChange)\n",
    "cv2.createTrackbar('B', 'img', 0, 255, onChange)\n",
    "\n",
    "# 트랙바의 위치 초기화\n",
    "cv2.setTrackbarPos('R', 'img', 0)\n",
    "cv2.setTrackbarPos('G', 'img', 234)\n",
    "cv2.setTrackbarPos('B', 'img', 123)\n",
    "\n",
    "cv2.waitKey()\n",
    "cv2.destroyAllWindows()"
   ]
  }
 ],
 "metadata": {
  "kernelspec": {
   "display_name": "Python 3",
   "language": "python",
   "name": "python3"
  },
  "language_info": {
   "codemirror_mode": {
    "name": "ipython",
    "version": 3
   },
   "file_extension": ".py",
   "mimetype": "text/x-python",
   "name": "python",
   "nbconvert_exporter": "python",
   "pygments_lexer": "ipython3",
   "version": "3.6.8"
  }
 },
 "nbformat": 4,
 "nbformat_minor": 2
}
